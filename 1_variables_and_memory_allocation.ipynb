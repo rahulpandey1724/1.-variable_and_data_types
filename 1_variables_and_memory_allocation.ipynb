{
 "cells": [
  {
   "cell_type": "markdown",
   "id": "f1b89f5b",
   "metadata": {},
   "source": [
    "<h1>Part 1: Variables and Memory Allocation</h1></br>  \n",
    "<h3>Exercise 1.1: Memory Exploration</h3></br>\n",
    "\n",
    "Write a program that demonstrates how variables and memory allocation work in Python. Your \n",
    "program should:\n",
    "</br>\n",
    "</br> \n",
    "1. Create variables of different types (int, float, string, list, tuple).</br> \n",
    "2. Print the ID (memory address) of each variable using the id() function.</br>\n",
    "3. Create a second variable that references the same object as one of your first variables.</br> \n",
    "4. Modify the original variable and observe what happens to the second one (for both \n",
    "mutable and immutable types).</br> \n",
    "5. Include comments explaining the behavior you observe."
   ]
  },
  {
   "cell_type": "code",
   "execution_count": null,
   "id": "b8048c76",
   "metadata": {},
   "outputs": [
    {
     "name": "stdout",
     "output_type": "stream",
     "text": [
      "Hello World\n"
     ]
    }
   ],
   "source": []
  },
  {
   "cell_type": "code",
   "execution_count": null,
   "id": "70e016e6",
   "metadata": {},
   "outputs": [],
   "source": []
  }
 ],
 "metadata": {
  "kernelspec": {
   "display_name": "Python 3",
   "language": "python",
   "name": "python3"
  },
  "language_info": {
   "codemirror_mode": {
    "name": "ipython",
    "version": 3
   },
   "file_extension": ".py",
   "mimetype": "text/x-python",
   "name": "python",
   "nbconvert_exporter": "python",
   "pygments_lexer": "ipython3",
   "version": "3.12.1"
  }
 },
 "nbformat": 4,
 "nbformat_minor": 5
}
