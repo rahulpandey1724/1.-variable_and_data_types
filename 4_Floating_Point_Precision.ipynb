{
 "cells": [
  {
   "cell_type": "markdown",
   "id": "08095e77",
   "metadata": {},
   "source": [
    "<h1>Part 4: Floating-Point Precision</h1>  \n",
    "<h3>Exercise 4.1: Precision Problems</h3> \n",
    "Write a program that demonstrates floating-point precision issues:</br></br> \n",
    "1. Create at least five examples where floating-point arithmetic gives unexpected results.</br> \n",
    "2. For each example, explain why the result occurs.</br> \n",
    "3. Implement a solution to each problem using at least two different approaches (rounding, \n",
    "epsilon comparison, Decimal, Fraction, etc.).</br> \n",
    "4. Compare the accuracy and performance of each solution.</br>"
   ]
  },
  {
   "cell_type": "code",
   "execution_count": 26,
   "id": "2588351f",
   "metadata": {},
   "outputs": [
    {
     "name": "stdout",
     "output_type": "stream",
     "text": [
      "False\n",
      "0.30000000000000004\n",
      "True\n",
      "True\n"
     ]
    }
   ],
   "source": [
    "# 1.\n",
    "\n",
    "from decimal import Decimal\n",
    "a = 0.1 + 0.2\n",
    "b = 0.3\n",
    "\n",
    "print(a == b)\n",
    "print(a)\n",
    "\n",
    "# This is happened because decimal number are stored in memory in the form of binary number\n",
    "# And we cannot store decimal number exact in the binary format that why this was happened\n",
    "# 0.1 and 0.2 are not stored exact in the memory\n",
    "\n",
    "\n",
    "print(round(a,1) == b)\n",
    "print(Decimal('0.1') + Decimal('0.2') == Decimal('0.3'))\n"
   ]
  },
  {
   "cell_type": "code",
   "execution_count": null,
   "id": "b770f0df",
   "metadata": {},
   "outputs": [
    {
     "name": "stdout",
     "output_type": "stream",
     "text": [
      "False\n",
      "0.6000000000000001\n",
      "True\n",
      "True\n"
     ]
    }
   ],
   "source": [
    "# 2.\n",
    "\n",
    "import math\n",
    "\n",
    "a_1 = 0.2\n",
    "b_1 = 3\n",
    "\n",
    "print(a_1 * b_1 == 0.6)\n",
    "print(a_1 * b_1)\n",
    "\n",
    "# This is happened because decimal number are stored in memory in the form of binary number\n",
    "# And we cannot store decimal number exact in the binary format that why this was happened\n",
    "# 0.2 are not stored exact in the memory\n",
    "\n",
    "print(round(a_1 * 3,1) == 0.6)\n",
    "print(math.isclose(a_1 * 3, 0.6))"
   ]
  },
  {
   "cell_type": "code",
   "execution_count": 38,
   "id": "fa86d40c",
   "metadata": {},
   "outputs": [
    {
     "name": "stdout",
     "output_type": "stream",
     "text": [
      "False\n",
      "0.30000000000000004\n",
      "True\n",
      "True\n"
     ]
    }
   ],
   "source": [
    "# 3.\n",
    "\n",
    "from decimal import Decimal\n",
    "import math\n",
    "\n",
    "a_2 = 0.1 + 0.1 + 0.1\n",
    "b_2 = 0.3\n",
    "\n",
    "print(a_2 == b_2)\n",
    "print(a_2)\n",
    "\n",
    "# This is happened because decimal number are stored in memory in the form of binary number\n",
    "# And we cannot store decimal number exact in the binary format that why this was happened\n",
    "# 0.1 are not stored exact in the memory\n",
    "\n",
    "print(math.isclose(a_2,b_2))\n",
    "print(Decimal('0.1') + Decimal(\"0.1\") + Decimal(\"0.1\") == Decimal(\"0.3\"))"
   ]
  },
  {
   "cell_type": "code",
   "execution_count": 44,
   "id": "71cb609c",
   "metadata": {},
   "outputs": [
    {
     "name": "stdout",
     "output_type": "stream",
     "text": [
      "False\n",
      "0.19999999999999998\n",
      "True\n",
      "True\n"
     ]
    }
   ],
   "source": [
    "# 4.\n",
    "\n",
    "import math\n",
    "from decimal import Decimal\n",
    "\n",
    "a_3 = 0.3 - 0.1\n",
    "b_3 = 0.2\n",
    "\n",
    "print(a_3 == b_3)\n",
    "print(a_3)\n",
    "\n",
    "# This is happened because decimal number are stored in memory in the form of binary number\n",
    "# And we cannot store decimal number exact in the binary format that why this was happened\n",
    "# 0.1 are not stored exact in the memory\n",
    "\n",
    "print(math.isclose(a_3,b_3))\n",
    "print(Decimal(\"0.3\") - Decimal(\"0.1\") == Decimal(\"0.2\"))"
   ]
  },
  {
   "cell_type": "code",
   "execution_count": 49,
   "id": "dc781d18",
   "metadata": {},
   "outputs": [
    {
     "name": "stdout",
     "output_type": "stream",
     "text": [
      "False\n",
      "0.6000000000000001\n",
      "True\n",
      "True\n"
     ]
    }
   ],
   "source": [
    "# 5.\n",
    "\n",
    "from decimal import Decimal\n",
    "\n",
    "a_4 = 0.2 * 3\n",
    "b_4 = 0.6\n",
    "\n",
    "print(a_4 == b_4)\n",
    "print(a_4)\n",
    "\n",
    "# This is happened because decimal number are stored in memory in the form of binary number\n",
    "# And we cannot store decimal number exact in the binary format that why this was happened\n",
    "# 0.2 are not stored exact in the memory\n",
    "\n",
    "print(round(a_4,1) == b_4)\n",
    "print(Decimal(\"0.2\") * 3 == Decimal(\"0.6\"))"
   ]
  },
  {
   "cell_type": "code",
   "execution_count": null,
   "id": "5b5b95e6",
   "metadata": {},
   "outputs": [],
   "source": []
  }
 ],
 "metadata": {
  "kernelspec": {
   "display_name": "Python 3",
   "language": "python",
   "name": "python3"
  },
  "language_info": {
   "codemirror_mode": {
    "name": "ipython",
    "version": 3
   },
   "file_extension": ".py",
   "mimetype": "text/x-python",
   "name": "python",
   "nbconvert_exporter": "python",
   "pygments_lexer": "ipython3",
   "version": "3.12.1"
  }
 },
 "nbformat": 4,
 "nbformat_minor": 5
}
