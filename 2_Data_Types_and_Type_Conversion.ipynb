{
 "cells": [
  {
   "cell_type": "markdown",
   "id": "666636c8",
   "metadata": {},
   "source": [
    "<h1>Part 2: Data Types and Type Conversion</h1>  \n",
    "<h3>Exercise 2.1: Type Exploration</h3> \n",
    "Create a program that:</br></br> \n",
    "1. Creates at least one variable of each of these types: int, float, complex, bool, str, and \n",
    "None.</br> \n",
    "2. Uses the type() function to verify the type of each variable.</br> \n",
    "3. Uses isinstance() to check if variables are of specific types.</br> \n",
    "4. Demonstrates at least three examples where Python automatically converts types in \n",
    "expressions.</br> \n",
    "5. Includes comments documenting your observations about type behavior."
   ]
  },
  {
   "cell_type": "code",
   "execution_count": null,
   "id": "495dd795",
   "metadata": {},
   "outputs": [
    {
     "name": "stdout",
     "output_type": "stream",
     "text": [
      "Type of  7  is  <class 'int'>\n",
      "Type of  99.99  is  <class 'float'>\n",
      "Type of  (2+3j)  is  <class 'complex'>\n",
      "Type of  True  is  <class 'bool'>\n",
      "Type of  rahul  is  <class 'str'>\n",
      "Type of  None  is  <class 'NoneType'>\n",
      "True\n",
      "True\n",
      "True\n",
      "True\n",
      "True\n",
      "True\n",
      "101\n",
      "rahulrahulrahulrahulrahulrahulrahulrahulrahulrahul\n",
      "10.0\n"
     ]
    }
   ],
   "source": [
    "# Creates at least one variable of each of these types: int, float, complex, bool, str, and None.\n",
    "\n",
    "number = 7\n",
    "price = 99.99\n",
    "comp = 2 + 3j\n",
    "is_follow = True\n",
    "name = \"rahul\"\n",
    "onthing = None\n",
    "\n",
    "# Uses the type() function to verify the type of each variable.\n",
    "\n",
    "print(\"Type of \",number, \" is \", type(number))\n",
    "print(\"Type of \",price, \" is \", type(price))\n",
    "print(\"Type of \",comp, \" is \", type(comp))\n",
    "print(\"Type of \",is_follow, \" is \", type(is_follow))\n",
    "print(\"Type of \",name, \" is \", type(name))\n",
    "print(\"Type of \",onthing, \" is \", type(onthing))\n",
    "\n",
    "# Uses isinstance() to check if variables are of specific types.\n",
    "\n",
    "print(isinstance(number, int))\n",
    "print(isinstance(price, float))\n",
    "print(isinstance(comp, complex))\n",
    "print(isinstance(is_follow, bool))\n",
    "print(isinstance(name, str))\n",
    "print(isinstance(onthing, type(None)))\n",
    "\n",
    "# Demonstrates at least three examples where Python automatically converts types in expressions.\n",
    "# Includes comments documenting your observations about type behavior.\n",
    "# 1.\n",
    "\n",
    "a = 100\n",
    "b = True\n",
    "c = a + b\n",
    "print(c)\n",
    "# when Integer (int) value preform any operations with the boolean (bool) value in this case \n",
    "# first boolean value implicit convert to integer value then preform operation\n",
    "# True is treated as --> 1\n",
    "# False is treated as --> 0\n",
    "# (int) + (bool) -> (int)\n",
    "\n",
    "# 2.\n",
    "\n",
    "a_1 = \"rahul\"\n",
    "b_1 = 10\n",
    "c_1 = a_1 * b_1\n",
    "print(c_1)\n",
    "# when String (str) value form any operation with Integer (int) value in this case\n",
    "# repetition opertion done (it mean that string value repeat itself according to integer value)\n",
    "# (str) * (int) -> (str)\n",
    "\n",
    "# 3.\n",
    "\n",
    "a_2 = 10\n",
    "b_2 = True\n",
    "c_2 = a_2 / b_2\n",
    "print(c_2)\n",
    "# when Integer (int) value preform any operations with the boolean (bool) value in this case \n",
    "# first boolean value implicit convert to integer value then preform operation\n",
    "# True is treated as --> 1\n",
    "# False is treated as --> 0\n",
    "# (int) / (bool) -> (int) or error\n",
    "# when value is True mean 1 -> it will give integer value\n",
    "# when value is False mean 0 -> it will give error"
   ]
  },
  {
   "cell_type": "markdown",
   "id": "1c4601a6",
   "metadata": {},
   "source": [
    "<h3>Exercise 2.2: Type Conversion Challenge</h3> \n",
    "Write a function that:</br></br> \n",
    "1. Takes a string input containing a mixture of numbers and text (e.g., \"I am 25 years old \n",
    "and my height is 5.9 feet\").</br> \n",
    "2. Extracts all numbers from the string and converts them to their appropriate numeric types \n",
    "(int or float).</br> \n",
    "3. Returns a tuple containing two lists: one with all integers found and one with all floats \n",
    "found.</br> \n",
    "4. Handles potential conversion errors gracefully."
   ]
  },
  {
   "cell_type": "code",
   "execution_count": 29,
   "id": "4515345b",
   "metadata": {},
   "outputs": [
    {
     "name": "stdout",
     "output_type": "stream",
     "text": [
      "([25], [5.9])\n"
     ]
    }
   ],
   "source": [
    "def exract_number_form_string():\n",
    "    a = input(\"Enter a value \")\n",
    "\n",
    "    int_list = []\n",
    "    float_list = []\n",
    "\n",
    "    l_1 = a.split(\" \")\n",
    "    \n",
    "    for i in l_1:\n",
    "        if len(i) > 0:\n",
    "            for j in i:\n",
    "                if j.isdigit():\n",
    "                    if \".\" in i:\n",
    "                        float_list.append(float(i))\n",
    "                        break\n",
    "                    else:\n",
    "                        int_list.append(int(i))\n",
    "                        break\n",
    "    \n",
    "    return (int_list, float_list)\n",
    "\n",
    "result = exract_number_form_string()\n",
    "print(result)"
   ]
  }
 ],
 "metadata": {
  "kernelspec": {
   "display_name": "Python 3",
   "language": "python",
   "name": "python3"
  },
  "language_info": {
   "codemirror_mode": {
    "name": "ipython",
    "version": 3
   },
   "file_extension": ".py",
   "mimetype": "text/x-python",
   "name": "python",
   "nbconvert_exporter": "python",
   "pygments_lexer": "ipython3",
   "version": "3.12.1"
  }
 },
 "nbformat": 4,
 "nbformat_minor": 5
}
