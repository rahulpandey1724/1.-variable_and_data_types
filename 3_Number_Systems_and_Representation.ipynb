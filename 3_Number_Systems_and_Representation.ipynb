{
 "cells": [
  {
   "cell_type": "markdown",
   "id": "c47a5b97",
   "metadata": {},
   "source": [
    "<h1>Part 3: Number Systems and Representation</h1>  \n",
    "<h3>Exercise 3.1: Base Converter</h3> \n",
    "Create a set of functions that:</br></br> \n",
    "1. Converts decimal integers to binary, octal, and hexadecimal strings without using built-in \n",
    "functions like bin(), oct(), or hex().</br> \n",
    "2. Converts binary, octal, and hexadecimal strings to decimal integers without using int(x, \n",
    "base).</br> \n",
    "3. Demonstrates your functions with at least five different numbers.</br> \n",
    "4. Verifies your results by comparing with Python's built-in conversion functions."
   ]
  },
  {
   "cell_type": "code",
   "execution_count": 27,
   "id": "60b9a981",
   "metadata": {},
   "outputs": [
    {
     "name": "stdout",
     "output_type": "stream",
     "text": [
      "0b1010\n",
      "0b10100\n",
      "0b110001\n",
      "0b1000011\n",
      "0b1100011\n"
     ]
    }
   ],
   "source": [
    "# convert decimal to binary\n",
    "def dec_to_bin(num):\n",
    "    bin_num = 0\n",
    "    place = 1\n",
    "\n",
    "    while num:\n",
    "        rem = num % 2\n",
    "        bin_num += rem * place\n",
    "        num = num // 2\n",
    "        place *= 10\n",
    "    \n",
    "    return \"0b\" + str(bin_num)\n",
    "\n",
    "# check with five different number\n",
    "print(dec_to_bin(10))\n",
    "print(dec_to_bin(20))\n",
    "print(dec_to_bin(49))\n",
    "print(dec_to_bin(67))\n",
    "print(dec_to_bin(99))\n"
   ]
  },
  {
   "cell_type": "code",
   "execution_count": 28,
   "id": "c19977a5",
   "metadata": {},
   "outputs": [
    {
     "name": "stdout",
     "output_type": "stream",
     "text": [
      "0b1010\n",
      "0b10100\n",
      "0b110001\n",
      "0b1000011\n",
      "0b1100011\n"
     ]
    }
   ],
   "source": [
    "# verify with in built function\n",
    "print(bin(10))\n",
    "print(bin(20))\n",
    "print(bin(49))\n",
    "print(bin(67))\n",
    "print(bin(99))"
   ]
  },
  {
   "cell_type": "code",
   "execution_count": 14,
   "id": "b4a143a9",
   "metadata": {},
   "outputs": [
    {
     "name": "stdout",
     "output_type": "stream",
     "text": [
      "0o12\n",
      "0o24\n",
      "0o132\n",
      "0o67\n",
      "0o113\n"
     ]
    }
   ],
   "source": [
    "# convert decimal to octal\n",
    "def dec_to_oct(num):\n",
    "    oct_num = 0\n",
    "    place = 1\n",
    "\n",
    "    while num:\n",
    "        rem = num % 8\n",
    "        oct_num += rem * place\n",
    "        num = num // 8\n",
    "        place *= 10\n",
    "    \n",
    "    return \"0o\" + str(oct_num)\n",
    "\n",
    "# check with five different number\n",
    "print(dec_to_oct(10))\n",
    "print(dec_to_oct(20))\n",
    "print(dec_to_oct(90))\n",
    "print(dec_to_oct(55))\n",
    "print(dec_to_oct(75))"
   ]
  },
  {
   "cell_type": "code",
   "execution_count": 30,
   "id": "86fc6ce0",
   "metadata": {},
   "outputs": [
    {
     "name": "stdout",
     "output_type": "stream",
     "text": [
      "0o12\n",
      "0o24\n",
      "0o132\n",
      "0o67\n",
      "0o113\n"
     ]
    }
   ],
   "source": [
    "# verify using inbuilt function\n",
    "print(oct(10))\n",
    "print(oct(20))\n",
    "print(oct(90))\n",
    "print(oct(55))\n",
    "print(oct(75))"
   ]
  },
  {
   "cell_type": "code",
   "execution_count": null,
   "id": "71c8a8f4",
   "metadata": {},
   "outputs": [
    {
     "name": "stdout",
     "output_type": "stream",
     "text": [
      "0x10\n",
      "0x5a\n",
      "0x64\n",
      "0x32\n",
      "0x96\n"
     ]
    }
   ],
   "source": [
    "# convert decimal to hexadecimal\n",
    "def dec_to_hex(num):\n",
    "    hex_num = \"\"\n",
    "\n",
    "    while num:\n",
    "        rem = num % 16\n",
    "\n",
    "        if rem == 10:\n",
    "            hex_num = 'a' + hex_num\n",
    "        elif rem == 11:\n",
    "            hex_num = 'b' + hex_num\n",
    "        elif rem == 12:\n",
    "            hex_num = 'c' + hex_num\n",
    "        elif rem == 13:\n",
    "            hex_num = 'd' + hex_num\n",
    "        elif rem == 14:\n",
    "            hex_num = 'e' + hex_num\n",
    "        elif rem == 15:\n",
    "            hex_num = 'f' + hex_num\n",
    "        else:\n",
    "            hex_num = str(rem) + hex_num\n",
    "        \n",
    "        num = num // 16\n",
    "    \n",
    "    return \"0x\" + hex_num\n",
    "\n",
    "# verify with five different value\n",
    "print(dec_to_hex(16))\n",
    "print(dec_to_hex(90))\n",
    "print(dec_to_hex(100))\n",
    "print(dec_to_hex(50))\n",
    "print(dec_to_hex(150))"
   ]
  },
  {
   "cell_type": "code",
   "execution_count": 38,
   "id": "11f0baed",
   "metadata": {},
   "outputs": [
    {
     "name": "stdout",
     "output_type": "stream",
     "text": [
      "0x10\n",
      "0x5a\n",
      "0x64\n",
      "0x32\n",
      "0x96\n"
     ]
    }
   ],
   "source": [
    "# verify using inbuilt function\n",
    "print(hex(16))\n",
    "print(hex(90))\n",
    "print(hex(100))\n",
    "print(hex(50))\n",
    "print(hex(150))"
   ]
  },
  {
   "cell_type": "code",
   "execution_count": null,
   "id": "ab780834",
   "metadata": {},
   "outputs": [
    {
     "name": "stdout",
     "output_type": "stream",
     "text": [
      "10\n",
      "20\n",
      "99\n",
      "35\n",
      "41\n"
     ]
    }
   ],
   "source": [
    "# convert binary to decimal\n",
    "def bin_to_dec(num):\n",
    "    dec_num = 0\n",
    "    pow = 1\n",
    "\n",
    "    while num:\n",
    "        rem = num % 10\n",
    "        dec_num += rem * pow\n",
    "        num //= 10\n",
    "        pow *= 2\n",
    "    \n",
    "    return dec_num\n",
    "\n",
    "# verify with 5 different value\n",
    "print(bin_to_dec(1010)) # 10\n",
    "print(bin_to_dec(10100)) # 20\n",
    "print(bin_to_dec(1100011)) # 99\n",
    "print(bin_to_dec(100011)) # 35\n",
    "print(bin_to_dec(101001)) # 41"
   ]
  },
  {
   "cell_type": "code",
   "execution_count": 50,
   "id": "35fc97aa",
   "metadata": {},
   "outputs": [
    {
     "name": "stdout",
     "output_type": "stream",
     "text": [
      "10\n",
      "20\n",
      "99\n",
      "35\n",
      "41\n"
     ]
    }
   ],
   "source": [
    "# verify using inbuilt function\n",
    "print(int(\"1010\",2)) # 10\n",
    "print(int(\"10100\",2)) # 20\n",
    "print(int(\"1100011\",2)) # 99\n",
    "print(int(\"100011\",2)) # 35\n",
    "print(int(\"101001\",2)) # 41"
   ]
  },
  {
   "cell_type": "code",
   "execution_count": 55,
   "id": "b1ef7890",
   "metadata": {},
   "outputs": [
    {
     "name": "stdout",
     "output_type": "stream",
     "text": [
      "10\n",
      "20\n",
      "46\n",
      "40\n",
      "64\n"
     ]
    }
   ],
   "source": [
    "# convert octal to decimal\n",
    "def oct_to_dec(num):\n",
    "    dec_num = 0\n",
    "    pow = 1\n",
    "\n",
    "    while num:\n",
    "        rem = num % 10\n",
    "        dec_num += rem * pow\n",
    "        num //= 10\n",
    "        pow *= 8\n",
    "\n",
    "    return dec_num\n",
    "\n",
    "# verify with 5 different value\n",
    "print(oct_to_dec(12))\n",
    "print(oct_to_dec(24)) \n",
    "print(oct_to_dec(56))\n",
    "print(oct_to_dec(50))\n",
    "print(oct_to_dec(100))"
   ]
  },
  {
   "cell_type": "code",
   "execution_count": 58,
   "id": "d8703ce1",
   "metadata": {},
   "outputs": [
    {
     "name": "stdout",
     "output_type": "stream",
     "text": [
      "10\n",
      "20\n",
      "46\n",
      "40\n",
      "64\n"
     ]
    }
   ],
   "source": [
    "# verify using inbuilt function\n",
    "print(int(\"12\",8))\n",
    "print(int(\"24\",8))\n",
    "print(int(\"56\",8))\n",
    "print(int(\"50\",8))\n",
    "print(int(\"100\",8))"
   ]
  },
  {
   "cell_type": "code",
   "execution_count": 71,
   "id": "9ae4b1cf",
   "metadata": {},
   "outputs": [
    {
     "name": "stdout",
     "output_type": "stream",
     "text": [
      "100\n",
      "90\n",
      "20\n",
      "170\n",
      "171\n"
     ]
    }
   ],
   "source": [
    "# convert hexadecimal to decimal\n",
    "def hex_to_dec(num : str) -> int:\n",
    "    dec_num = 0\n",
    "    pow = 1\n",
    "    num: str = num[::-1]\n",
    "    \n",
    "    for i in num:\n",
    "        if i == 'a':\n",
    "            dec_num += 10 * pow\n",
    "        elif i == 'b':\n",
    "            dec_num += 11 * pow\n",
    "        elif i == 'c':\n",
    "            dec_num += 12 * pow\n",
    "        elif i == 'd':\n",
    "            dec_num += 13 * pow\n",
    "        elif i == 'e':\n",
    "            dec_num += 14 * pow\n",
    "        elif i == 'f':\n",
    "            dec_num += 15 * pow\n",
    "        else:\n",
    "            dec_num += int(i) * pow\n",
    "        \n",
    "        pow *= 16\n",
    "    \n",
    "    return dec_num\n",
    "\n",
    "# verify using 5 different value\n",
    "print(hex_to_dec(\"64\"))\n",
    "print(hex_to_dec(\"5a\"))\n",
    "print(hex_to_dec(\"14\"))\n",
    "print(hex_to_dec(\"aa\"))\n",
    "print(hex_to_dec(\"ab\"))"
   ]
  },
  {
   "cell_type": "code",
   "execution_count": 74,
   "id": "ccf55b2b",
   "metadata": {},
   "outputs": [
    {
     "name": "stdout",
     "output_type": "stream",
     "text": [
      "100\n",
      "90\n",
      "20\n",
      "170\n",
      "171\n"
     ]
    }
   ],
   "source": [
    "# verify using inbuilt function\n",
    "print(int(\"64\",16))\n",
    "print(int(\"5a\",16))\n",
    "print(int(\"14\",16))\n",
    "print(int(\"aa\",16))\n",
    "print(int(\"ab\",16))"
   ]
  },
  {
   "cell_type": "code",
   "execution_count": null,
   "id": "a69f931f",
   "metadata": {},
   "outputs": [],
   "source": []
  }
 ],
 "metadata": {
  "kernelspec": {
   "display_name": "Python 3",
   "language": "python",
   "name": "python3"
  },
  "language_info": {
   "codemirror_mode": {
    "name": "ipython",
    "version": 3
   },
   "file_extension": ".py",
   "mimetype": "text/x-python",
   "name": "python",
   "nbconvert_exporter": "python",
   "pygments_lexer": "ipython3",
   "version": "3.12.1"
  }
 },
 "nbformat": 4,
 "nbformat_minor": 5
}
