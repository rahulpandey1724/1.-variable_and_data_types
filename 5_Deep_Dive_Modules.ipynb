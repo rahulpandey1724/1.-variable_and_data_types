{
 "cells": [
  {
   "cell_type": "markdown",
   "id": "fc72b61b",
   "metadata": {},
   "source": [
    "<h1>Part 5: Deep Dive Modules</h1>  \n",
    "<h3>Exercise 5.1: Math Module Explorer</h3> \n",
    "Write a program that explores the capabilities of the math module:</br></br> \n",
    "1. Use at least 10 different functions from the math module.</br> \n",
    "2. Create practical examples for each function.</br> \n",
    "3. Create a function that calculates the roots of a quadratic equation using math functions.</br> \n",
    "4. Create a function that converts between different angle units (degrees, radians) using \n",
    "math functions.</br> \n",
    "5. Include comments explaining each function and its application."
   ]
  },
  {
   "cell_type": "code",
   "execution_count": 7,
   "id": "270c8f7b",
   "metadata": {},
   "outputs": [
    {
     "name": "stdout",
     "output_type": "stream",
     "text": [
      "5.0\n"
     ]
    }
   ],
   "source": [
    "import math\n",
    "\n",
    "# 1. math.sqrt() -> use to calculate hypotunse in right angle triangle\n",
    "\n",
    "def hypotunse(base,height):\n",
    "    return math.sqrt(base**2 + height**2)\n",
    "\n",
    "print(hypotunse(3,4)) "
   ]
  },
  {
   "cell_type": "code",
   "execution_count": 4,
   "id": "f40d6a29",
   "metadata": {},
   "outputs": [
    {
     "name": "stdout",
     "output_type": "stream",
     "text": [
      "24\n"
     ]
    }
   ],
   "source": [
    "# 2.\n",
    "# math.factorial() -> calculate the permutation\n",
    "\n",
    "def permutation(n,r):\n",
    "    return math.factorial(n) // math.factorial(n-r)\n",
    "\n",
    "print(permutation(4,3))"
   ]
  },
  {
   "cell_type": "code",
   "execution_count": 10,
   "id": "1c41fd97",
   "metadata": {},
   "outputs": [
    {
     "name": "stdout",
     "output_type": "stream",
     "text": [
      "13.23\n"
     ]
    }
   ],
   "source": [
    "# 3.\n",
    "# math.pow() -> use to calculate the compound interset\n",
    "\n",
    "def compound_interset(p,r,t):\n",
    "    return p * (math.pow(1 + (r/100),t))\n",
    "\n",
    "print(compound_interset(12,5,2))"
   ]
  },
  {
   "cell_type": "code",
   "execution_count": 12,
   "id": "60cc547c",
   "metadata": {},
   "outputs": [
    {
     "name": "stdout",
     "output_type": "stream",
     "text": [
      "3.141592653589793\n"
     ]
    }
   ],
   "source": [
    "# 4.\n",
    "# math.radians() -> use to convert degree to radian\n",
    "\n",
    "def radian(deg):\n",
    "    return math.radians(deg)\n",
    "\n",
    "print(radian(180))"
   ]
  },
  {
   "cell_type": "code",
   "execution_count": 13,
   "id": "2dffc662",
   "metadata": {},
   "outputs": [
    {
     "name": "stdout",
     "output_type": "stream",
     "text": [
      "10\n"
     ]
    }
   ],
   "source": [
    "# 5.\n",
    "# math.gcd() -> use to calculate the HCP\n",
    "\n",
    "result = math.gcd(10,20)\n",
    "print(result)"
   ]
  },
  {
   "cell_type": "code",
   "execution_count": 14,
   "id": "7295ee68",
   "metadata": {},
   "outputs": [
    {
     "name": "stdout",
     "output_type": "stream",
     "text": [
      "2\n"
     ]
    }
   ],
   "source": [
    "# 6.\n",
    "# math.floor() -> use to round down\n",
    "\n",
    "value = math.floor(2.4)\n",
    "print(value)"
   ]
  },
  {
   "cell_type": "code",
   "execution_count": 15,
   "id": "fb2621b6",
   "metadata": {},
   "outputs": [
    {
     "name": "stdout",
     "output_type": "stream",
     "text": [
      "3\n"
     ]
    }
   ],
   "source": [
    "# 7.\n",
    "# math.ceil() -> use to round up the value\n",
    "\n",
    "value_1 = math.ceil(2.4)\n",
    "print(value_1)"
   ]
  },
  {
   "cell_type": "code",
   "execution_count": 16,
   "id": "af78a3bc",
   "metadata": {},
   "outputs": [
    {
     "name": "stdout",
     "output_type": "stream",
     "text": [
      "3.3219280948873626\n"
     ]
    }
   ],
   "source": [
    "# 8.\n",
    "# math.log() -> use to calculate logarithm\n",
    "\n",
    "print(math.log(10,2))"
   ]
  },
  {
   "cell_type": "code",
   "execution_count": 17,
   "id": "6285c516",
   "metadata": {},
   "outputs": [
    {
     "name": "stdout",
     "output_type": "stream",
     "text": [
      "57.29577951308232\n"
     ]
    }
   ],
   "source": [
    "# 9.\n",
    "# math.degrees() -> use to convert radian to degree\n",
    "\n",
    "print(math.degrees(1))"
   ]
  },
  {
   "cell_type": "code",
   "execution_count": 18,
   "id": "c276cabd",
   "metadata": {},
   "outputs": [
    {
     "name": "stdout",
     "output_type": "stream",
     "text": [
      "0.8509035245341184\n"
     ]
    }
   ],
   "source": [
    "# 10.\n",
    "# math.sin() -> use to calculate sin angle\n",
    "\n",
    "print(math.sin(45))"
   ]
  },
  {
   "cell_type": "code",
   "execution_count": null,
   "id": "589d9bfd",
   "metadata": {},
   "outputs": [
    {
     "name": "stdout",
     "output_type": "stream",
     "text": [
      "real and distanct root are 2.0 1.0\n"
     ]
    }
   ],
   "source": [
    "# find root of quadratic equation\n",
    "def quadratic_root(a,b,c):\n",
    "    if a == 0:\n",
    "        return \"Not a valid quadratic equation\"\n",
    "    \n",
    "    discriminant = (b**2) - (4*a*c)\n",
    "\n",
    "    if discriminant > 0:\n",
    "        root_1 = (-b + math.sqrt(discriminant)) // 2*a\n",
    "        root_2 = (-b - math.sqrt(discriminant)) // 2*a\n",
    "        print(\"real and distanct root are\", root_1, root_2)\n",
    "    elif discriminant == 0:\n",
    "        root_3 = -b / 2 *a\n",
    "        print(\"One real and equal root \",root_3)\n",
    "    else:\n",
    "        print(\"Complex root (not real)\")\n",
    "\n",
    "quadratic_root(1,-3,2)\n",
    "\n",
    "# quadratic equation in the form of -> ax^2 + bx + c = 0   Where a != 0\n",
    "# to find the quadratic equation root\n",
    "# step 1 -> calculate discriminant (D) -> b^2 - 4*a*c\n",
    "# step 2 -> if discriminant > 0 -> two real and distanct root\n",
    "#               formula to calculate root -> root_1 = (-b + √D) / 2a\n",
    "#                                            root_2 = (-b - √D) / 2a\n",
    "\n",
    "#           if discriminant = 0 -> one real and equal root\n",
    "#              formula to calculate root -> root = -b / 2a\n",
    "\n",
    "#           if discriminant > 0 -> complex root (not real)"
   ]
  },
  {
   "cell_type": "code",
   "execution_count": null,
   "id": "2b3fca80",
   "metadata": {},
   "outputs": [
    {
     "name": "stdout",
     "output_type": "stream",
     "text": [
      "114.59155902616465\n"
     ]
    }
   ],
   "source": [
    "# convert degrees to radians\n",
    "def degrees_or_radian(value, unit):\n",
    "    if unit.lower() == \"degrees\":\n",
    "        return math.degrees(value)\n",
    "    else:\n",
    "        return math.radians(value)\n",
    "\n",
    "print(degrees_or_radian(2,\"degrees\"))\n",
    "\n",
    "# to convert degree to radian formula -> radian = degrees * PI/180\n",
    "# to conver radian to degrees formula -> degrees = 180/PI * radian\n",
    "# in above function pass to parameter value -> any integer number  and unit -> degrees , radian "
   ]
  },
  {
   "cell_type": "code",
   "execution_count": null,
   "id": "18bc71ce",
   "metadata": {},
   "outputs": [],
   "source": []
  }
 ],
 "metadata": {
  "kernelspec": {
   "display_name": "Python 3",
   "language": "python",
   "name": "python3"
  },
  "language_info": {
   "codemirror_mode": {
    "name": "ipython",
    "version": 3
   },
   "file_extension": ".py",
   "mimetype": "text/x-python",
   "name": "python",
   "nbconvert_exporter": "python",
   "pygments_lexer": "ipython3",
   "version": "3.12.1"
  }
 },
 "nbformat": 4,
 "nbformat_minor": 5
}
